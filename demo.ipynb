{
 "cells": [
  {
   "cell_type": "code",
   "execution_count": null,
   "metadata": {},
   "outputs": [],
   "source": [
    "\n",
    "import pandas as pd \n",
    "\n",
    "csv_file = \"..\\\\chinese-mnist\\\\chinese_mnist.csv\"\n",
    "data_dir = \"..\\\\chinese-mnist\\\\data\\\\data\\\\\"\n",
    "# data_frame = pd.read_csv(csv_file)\n",
    "\n",
    "# data_frame.head\n",
    "# data_frame\n",
    "# print(data)"
   ]
  },
  {
   "cell_type": "code",
   "execution_count": null,
   "metadata": {},
   "outputs": [],
   "source": [
    "import os\n",
    "\n",
    "def load_data_from_csv(data_dir, csv_file):\n",
    "    data_frame = pd.read_csv(csv_file)\n",
    "    data = {}\n",
    "    \n",
    "    for _, row in data_frame.iterrows():\n",
    "        label = row['code']\n",
    "        file_path = os.path.join(data_dir, f\"input_{row['suite_id']}_{row['sample_id']}_{label}.jpg\")\n",
    "        print(file_path)\n",
    "        if label in data:\n",
    "            data[label].append(file_path)\n",
    "        else:\n",
    "            data[label] = [file_path]\n",
    "\n",
    "    return data\n"
   ]
  },
  {
   "cell_type": "code",
   "execution_count": null,
   "metadata": {},
   "outputs": [],
   "source": [
    "data= load_data_from_csv(data_dir, csv_file)"
   ]
  },
  {
   "cell_type": "code",
   "execution_count": null,
   "metadata": {},
   "outputs": [],
   "source": [
    "print(data)"
   ]
  },
  {
   "cell_type": "code",
   "execution_count": null,
   "metadata": {},
   "outputs": [],
   "source": [
    "\n",
    "for key, value in data.items():\n",
    "    print(key, value)"
   ]
  }
 ],
 "metadata": {
  "kernelspec": {
   "display_name": "Python 3.9.0 64-bit",
   "language": "python",
   "name": "python3"
  },
  "language_info": {
   "codemirror_mode": {
    "name": "ipython",
    "version": 3
   },
   "file_extension": ".py",
   "mimetype": "text/x-python",
   "name": "python",
   "nbconvert_exporter": "python",
   "pygments_lexer": "ipython3",
   "version": "3.9.0"
  },
  "orig_nbformat": 4,
  "vscode": {
   "interpreter": {
    "hash": "3107ee7e48c87bc0659fdfa1e5e48f81abb78cf8d4b3aa059a62b014212b10ba"
   }
  }
 },
 "nbformat": 4,
 "nbformat_minor": 2
}
